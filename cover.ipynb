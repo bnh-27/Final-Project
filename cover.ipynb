{
 "cells": [
  {
   "cell_type": "markdown",
   "metadata": {},
   "source": [
    "### Best Neighborhood in Pittsburgh for Pitt Student Housing \n",
    "*based on data gathered about the safety, transportation, and housing*"
   ]
  },
  {
   "cell_type": "markdown",
   "metadata": {},
   "source": []
  }
 ],
 "metadata": {
  "kernelspec": {
   "display_name": "Python 3.9.13 ('base')",
   "language": "python",
   "name": "python3"
  },
  "language_info": {
   "name": "python",
   "version": "3.9.13"
  },
  "orig_nbformat": 4,
  "vscode": {
   "interpreter": {
    "hash": "f6aee8cbc898df863f79035f13669495a4b73d62789fdba7d09d80122c710924"
   }
  }
 },
 "nbformat": 4,
 "nbformat_minor": 2
}
